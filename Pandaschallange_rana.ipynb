{
 "cells": [
  {
   "cell_type": "code",
   "execution_count": 2,
   "id": "e9ad839e-96fc-47df-8324-adbdb9111726",
   "metadata": {},
   "outputs": [
    {
     "data": {
      "text/html": [
       "<div>\n",
       "<style scoped>\n",
       "    .dataframe tbody tr th:only-of-type {\n",
       "        vertical-align: middle;\n",
       "    }\n",
       "\n",
       "    .dataframe tbody tr th {\n",
       "        vertical-align: top;\n",
       "    }\n",
       "\n",
       "    .dataframe thead th {\n",
       "        text-align: right;\n",
       "    }\n",
       "</style>\n",
       "<table border=\"1\" class=\"dataframe\">\n",
       "  <thead>\n",
       "    <tr style=\"text-align: right;\">\n",
       "      <th></th>\n",
       "      <th>Name</th>\n",
       "      <th>Age</th>\n",
       "      <th>City</th>\n",
       "    </tr>\n",
       "  </thead>\n",
       "  <tbody>\n",
       "    <tr>\n",
       "      <th>0</th>\n",
       "      <td>Rana</td>\n",
       "      <td>25</td>\n",
       "      <td>India</td>\n",
       "    </tr>\n",
       "    <tr>\n",
       "      <th>1</th>\n",
       "      <td>Alluarjun</td>\n",
       "      <td>40</td>\n",
       "      <td>Telangana</td>\n",
       "    </tr>\n",
       "    <tr>\n",
       "      <th>2</th>\n",
       "      <td>MSDhoni</td>\n",
       "      <td>45</td>\n",
       "      <td>Chennai</td>\n",
       "    </tr>\n",
       "  </tbody>\n",
       "</table>\n",
       "</div>"
      ],
      "text/plain": [
       "        Name  Age       City\n",
       "0       Rana   25      India\n",
       "1  Alluarjun   40  Telangana\n",
       "2    MSDhoni   45    Chennai"
      ]
     },
     "execution_count": 2,
     "metadata": {},
     "output_type": "execute_result"
    }
   ],
   "source": [
    "import pandas as pd\n",
    "\n",
    "data = {\n",
    "    'Name': ['Rana', 'Alluarjun', 'MSDhoni'],\n",
    "    'Age': [25,40, 45],\n",
    "    'City': ['India', 'Telangana', 'Chennai']\n",
    "}\n",
    "df = pd.DataFrame(data)\n",
    "\n",
    "df"
   ]
  },
  {
   "cell_type": "code",
   "execution_count": 3,
   "id": "099f4a24-ef6d-4bc2-bf7f-68d53f017746",
   "metadata": {},
   "outputs": [
    {
     "data": {
      "text/html": [
       "<div>\n",
       "<style scoped>\n",
       "    .dataframe tbody tr th:only-of-type {\n",
       "        vertical-align: middle;\n",
       "    }\n",
       "\n",
       "    .dataframe tbody tr th {\n",
       "        vertical-align: top;\n",
       "    }\n",
       "\n",
       "    .dataframe thead th {\n",
       "        text-align: right;\n",
       "    }\n",
       "</style>\n",
       "<table border=\"1\" class=\"dataframe\">\n",
       "  <thead>\n",
       "    <tr style=\"text-align: right;\">\n",
       "      <th></th>\n",
       "      <th>Name</th>\n",
       "      <th>Age</th>\n",
       "      <th>City</th>\n",
       "    </tr>\n",
       "  </thead>\n",
       "  <tbody>\n",
       "    <tr>\n",
       "      <th>0</th>\n",
       "      <td>Rana</td>\n",
       "      <td>25</td>\n",
       "      <td>India</td>\n",
       "    </tr>\n",
       "    <tr>\n",
       "      <th>1</th>\n",
       "      <td>Alluarjun</td>\n",
       "      <td>40</td>\n",
       "      <td>Telangana</td>\n",
       "    </tr>\n",
       "    <tr>\n",
       "      <th>2</th>\n",
       "      <td>MSDhoni</td>\n",
       "      <td>45</td>\n",
       "      <td>Chennai</td>\n",
       "    </tr>\n",
       "  </tbody>\n",
       "</table>\n",
       "</div>"
      ],
      "text/plain": [
       "        Name  Age       City\n",
       "0       Rana   25      India\n",
       "1  Alluarjun   40  Telangana\n",
       "2    MSDhoni   45    Chennai"
      ]
     },
     "execution_count": 3,
     "metadata": {},
     "output_type": "execute_result"
    }
   ],
   "source": [
    "df.head()\n"
   ]
  },
  {
   "cell_type": "code",
   "execution_count": 4,
   "id": "1833ee9f-7bbe-4e5f-b6c8-c78c38a7c376",
   "metadata": {},
   "outputs": [
    {
     "data": {
      "text/plain": [
       "RangeIndex(start=0, stop=3, step=1)"
      ]
     },
     "execution_count": 4,
     "metadata": {},
     "output_type": "execute_result"
    }
   ],
   "source": [
    "df.index"
   ]
  },
  {
   "cell_type": "code",
   "execution_count": 5,
   "id": "a7a4df38-f634-4cee-aafb-b4785a4947b9",
   "metadata": {},
   "outputs": [
    {
     "data": {
      "text/plain": [
       "0         Rana\n",
       "1    Alluarjun\n",
       "2      MSDhoni\n",
       "Name: Name, dtype: object"
      ]
     },
     "execution_count": 5,
     "metadata": {},
     "output_type": "execute_result"
    }
   ],
   "source": [
    "df['Name']"
   ]
  },
  {
   "cell_type": "code",
   "execution_count": 6,
   "id": "a63f0e0b-9fb0-437e-9775-4e158e17d812",
   "metadata": {},
   "outputs": [
    {
     "data": {
      "text/plain": [
       "Name     Rana\n",
       "Age        25\n",
       "City    India\n",
       "Name: 0, dtype: object"
      ]
     },
     "execution_count": 6,
     "metadata": {},
     "output_type": "execute_result"
    }
   ],
   "source": [
    "df.iloc[0]"
   ]
  },
  {
   "cell_type": "code",
   "execution_count": 7,
   "id": "6bf76e70-cde8-4f5f-9eb8-3ad00da73764",
   "metadata": {},
   "outputs": [
    {
     "data": {
      "text/html": [
       "<div>\n",
       "<style scoped>\n",
       "    .dataframe tbody tr th:only-of-type {\n",
       "        vertical-align: middle;\n",
       "    }\n",
       "\n",
       "    .dataframe tbody tr th {\n",
       "        vertical-align: top;\n",
       "    }\n",
       "\n",
       "    .dataframe thead th {\n",
       "        text-align: right;\n",
       "    }\n",
       "</style>\n",
       "<table border=\"1\" class=\"dataframe\">\n",
       "  <thead>\n",
       "    <tr style=\"text-align: right;\">\n",
       "      <th></th>\n",
       "      <th>Name</th>\n",
       "      <th>Age</th>\n",
       "      <th>City</th>\n",
       "    </tr>\n",
       "  </thead>\n",
       "  <tbody>\n",
       "    <tr>\n",
       "      <th>0</th>\n",
       "      <td>Rana</td>\n",
       "      <td>25</td>\n",
       "      <td>India</td>\n",
       "    </tr>\n",
       "    <tr>\n",
       "      <th>1</th>\n",
       "      <td>Alluarjun</td>\n",
       "      <td>40</td>\n",
       "      <td>Telangana</td>\n",
       "    </tr>\n",
       "    <tr>\n",
       "      <th>2</th>\n",
       "      <td>MSDhoni</td>\n",
       "      <td>45</td>\n",
       "      <td>Chennai</td>\n",
       "    </tr>\n",
       "  </tbody>\n",
       "</table>\n",
       "</div>"
      ],
      "text/plain": [
       "        Name  Age       City\n",
       "0       Rana   25      India\n",
       "1  Alluarjun   40  Telangana\n",
       "2    MSDhoni   45    Chennai"
      ]
     },
     "execution_count": 7,
     "metadata": {},
     "output_type": "execute_result"
    }
   ],
   "source": [
    "data_dict = [\n",
    "    {'Name': 'Rana', 'Age': 25, 'City': 'India'},\n",
    "    {'Name': 'Alluarjun', 'Age': 40, 'City': 'Telangana'},\n",
    "    {'Name': 'MSDhoni', 'Age': 45, 'City': 'Chennai'}\n",
    "]\n",
    "df_dict = pd.DataFrame(data_dict)\n",
    "\n",
    "df_dict"
   ]
  },
  {
   "cell_type": "code",
   "execution_count": 8,
   "id": "be5e80f4-842e-44ff-93f6-f2518aff3fa2",
   "metadata": {},
   "outputs": [],
   "source": [
    "df.to_csv('data.csv', index=False)"
   ]
  },
  {
   "cell_type": "markdown",
   "id": "e4a2ff60-6db5-463d-b76b-a9c07ed39ea9",
   "metadata": {},
   "source": [
    "1.An indispensable procedure for those who design interactive data visualizations is the \"write/render/evaluate\" cycle. Write code or commands, display the output to see the impacts right away, and then analyze the results to evaluate if the visualization successfully conveys the intended message. This process enables creators to iteratively design and modify visualizations. \n",
    "\n",
    "2.Because they engage consumers by letting them interact more directly with the data, dynamic, interactive data visualizations are essential for effective data communication. Users may filter, scale, and alter the data through interaction, exposing trends, patterns, and outliers that static visualizations would overlook. This dynamic method improves user comprehension and increases the accessibility and significance of the data.\n",
    "\n",
    "3.I believe that the best option for presenting data visualizations is frequently to use open-source tools rather than proprietary software. Murray makes this point. Open-source technologies give users more freedom, transparency, and accessibility so they can freely share and alter their visualizations. Furthermore, these technologies are more inventive and sustainable than proprietary alternatives because of the cooperative character of open-source communities, which guarantees that they are constantly enhanced and supported.\n"
   ]
  }
 ],
 "metadata": {
  "kernelspec": {
   "display_name": "Python 3 (ipykernel)",
   "language": "python",
   "name": "python3"
  },
  "language_info": {
   "codemirror_mode": {
    "name": "ipython",
    "version": 3
   },
   "file_extension": ".py",
   "mimetype": "text/x-python",
   "name": "python",
   "nbconvert_exporter": "python",
   "pygments_lexer": "ipython3",
   "version": "3.12.4"
  }
 },
 "nbformat": 4,
 "nbformat_minor": 5
}
